{
 "cells": [
  {
   "cell_type": "code",
   "execution_count": null,
   "metadata": {},
   "outputs": [],
   "source": [
    "#  firt version of a program using pandas\n",
    "import pandas as pd\n",
    "\n",
    "def main():\n",
    "    df = pd.read_csv('src/municipal.tsv', sep='\\t', index_col='Region 2018')\n",
    "    print(f'Shape: {df.shape[0]},{df.shape[1]}')\n",
    "    print('Columns:')\n",
    "    for col in df.columns:\n",
    "        print(col)\n",
    "    print('Rows:')\n",
    "    for row in df.index:\n",
    "        print(row)\n",
    "\n",
    "\n",
    "\n"
   ]
  }
 ],
 "metadata": {
  "language_info": {
   "name": "python"
  }
 },
 "nbformat": 4,
 "nbformat_minor": 2
}
