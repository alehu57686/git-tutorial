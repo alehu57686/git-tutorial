{
 "cells": [
  {
   "cell_type": "code",
   "execution_count": null,
   "metadata": {},
   "outputs": [],
   "source": [
    "#  firt version of a program using pandas\n",
    "import pandas as pd\n",
    "\n",
    "def function_1():\n",
    "\n",
    "    \n",
    "def function_2():\n",
    "\n",
    "def function_3():\n",
    "\n",
    "def function_4():\n",
    "\n",
    "def function_5():\n",
    "\n"
   ]
  }
 ],
 "metadata": {
  "language_info": {
   "name": "python"
  }
 },
 "nbformat": 4,
 "nbformat_minor": 2
}
